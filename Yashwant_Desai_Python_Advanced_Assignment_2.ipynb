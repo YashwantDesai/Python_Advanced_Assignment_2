{
 "cells": [
  {
   "cell_type": "markdown",
   "id": "0c27a818",
   "metadata": {},
   "source": [
    "# Yashwant Desai –  Python_Advanced_Assignment_2"
   ]
  },
  {
   "cell_type": "markdown",
   "id": "c84afd7f",
   "metadata": {},
   "source": [
    "Q1. What is the relationship between classes and modules?"
   ]
  },
  {
   "cell_type": "markdown",
   "id": "6ad61687",
   "metadata": {},
   "source": [
    "Modules are used to organize code by grouping related functions, classes, and variables together in separate files. Classes define the blueprint for creating objects with specific attributes and behaviours within these modules. Both classes and modules promote code reusability. Classes provide a template for creating instances of objects with consistent behaviour, and modules allow us to reuse functions and classes across different parts of our program. "
   ]
  },
  {
   "cell_type": "markdown",
   "id": "d34d514c",
   "metadata": {},
   "source": [
    "Q2. How do you make instances and classes?"
   ]
  },
  {
   "cell_type": "raw",
   "id": "d72cb4c2",
   "metadata": {},
   "source": [
    "We can create instances and classes as per following steps\n",
    "1.\tDefining a Class:\n",
    "•\tTo define a class, use the class keyword followed by the class name and a colon.\n",
    "•\tInside the class, we can define attributes (variables) and methods (functions) that the instances of the class will have.\n",
    "2.\tCreating Instances (Objects):\n",
    "•\tAn instance is a specific realization of a class, with its own unique attributes and behaviours.\n",
    "•\tTo create an instance, call the class name followed by parentheses. This calls the class's constructor (__init__ method) to initialize the instance.\n",
    "•\twe can assign the instance to a variable to work with it.\n"
   ]
  },
  {
   "cell_type": "code",
   "execution_count": 2,
   "id": "ba2cbb21",
   "metadata": {},
   "outputs": [
    {
     "name": "stdout",
     "output_type": "stream",
     "text": [
      "Uma is 3 years old.\n",
      "Tommy barks!\n"
     ]
    }
   ],
   "source": [
    "class Dog:\n",
    "    def __init__(self, name, age):\n",
    "        self.name = name\n",
    "        self.age = age\n",
    "    def bark(self):\n",
    "        print(f\"{self.name} barks!\")\n",
    "dog1 = Dog(\"Uma\", 3)\n",
    "dog2 = Dog(\"Tommy\", 5)\n",
    "print(f\"{dog1.name} is {dog1.age} years old.\")\n",
    "dog2.bark()"
   ]
  },
  {
   "cell_type": "markdown",
   "id": "f8a9d0ef",
   "metadata": {},
   "source": [
    "Q3. Where and how should be class attributes created?"
   ]
  },
  {
   "cell_type": "markdown",
   "id": "23321f77",
   "metadata": {},
   "source": [
    "Class attributes are attributes that are shared by all instances of a class. They are defined within the class block but outside of any instance methods. Define class attributes directly within the class block, outside of any methods. They are created as variables at the class level. Class attributes are usually assigned initial values when they are defined. They are shared among all instances of the class. Class attributes can be accessed using the class name or any instance of the class. They are shared among all instances, so modifying a class attribute using one instance will affect all other instances as well. "
   ]
  },
  {
   "cell_type": "code",
   "execution_count": 3,
   "id": "d2187270",
   "metadata": {},
   "outputs": [
    {
     "name": "stdout",
     "output_type": "stream",
     "text": [
      "Value of pi: 3.14159\n",
      "Area of circle 1: 78.53975\n",
      "Area of circle 2: 153.93791\n"
     ]
    }
   ],
   "source": [
    "class Circle:\n",
    "    pi = 3.14159\n",
    "    def __init__(self, radius):\n",
    "        self.radius = radius\n",
    "    def calculate_area(self):\n",
    "        return Circle.pi * self.radius * self.radius\n",
    "circle1 = Circle(5)\n",
    "circle2 = Circle(7)\n",
    "print(\"Value of pi:\", Circle.pi)\n",
    "area1 = circle1.calculate_area()\n",
    "area2 = circle2.calculate_area()\n",
    "print(\"Area of circle 1:\", area1)\n",
    "print(\"Area of circle 2:\", area2)"
   ]
  },
  {
   "cell_type": "markdown",
   "id": "d3a8a09e",
   "metadata": {},
   "source": [
    "Q4. Where and how are instance attributes created?"
   ]
  },
  {
   "cell_type": "raw",
   "id": "59ba3632",
   "metadata": {},
   "source": [
    "Instance attributes are attributes that are specific to each individual instance of a class. They are defined and created within the class's __init__ method. Following are steps to create instance attributes\n",
    "\n",
    "1.\tDefinition within the __init__ Method:\n",
    "•\tInstance attributes are defined and initialized within the __init__ method of the class.\n",
    "•\tEach instance can have its own set of values for these attributes.\n",
    "2.\tInitialization:\n",
    "•\tInstance attributes are typically initialized using the parameters passed to the __init__ method.\n",
    "•\tThese attributes can hold data unique to each instance.\n",
    "3.\tAccess and Modification:\n",
    "•\tInstance attributes are accessed and modified using the self keyword within instance methods.\n"
   ]
  },
  {
   "cell_type": "code",
   "execution_count": 4,
   "id": "6cda5228",
   "metadata": {},
   "outputs": [
    {
     "name": "stdout",
     "output_type": "stream",
     "text": [
      "Hi, I'm Ram and I'm 30 years old.\n",
      "Hi, I'm Shyam and I'm 25 years old.\n"
     ]
    }
   ],
   "source": [
    "class Person:\n",
    "    def __init__(self, name, age):\n",
    "        self.name = name\n",
    "        self.age = age\n",
    "    def introduce(self):\n",
    "        return f\"Hi, I'm {self.name} and I'm {self.age} years old.\"\n",
    "person1 = Person(\"Ram\", 30)\n",
    "person2 = Person(\"Shyam\", 25)\n",
    "intro1 = person1.introduce()\n",
    "intro2 = person2.introduce()\n",
    "print(intro1)\n",
    "print(intro2)"
   ]
  },
  {
   "cell_type": "markdown",
   "id": "500a1a75",
   "metadata": {},
   "source": [
    "Q5. What does the term \"self\" in a Python class mean?"
   ]
  },
  {
   "cell_type": "markdown",
   "id": "b47b1e73",
   "metadata": {},
   "source": [
    "In Python,” self” refers to the instance of a class that an instance method is operating on. It's a way to access and manipulate the instance's attributes and methods within the method itself."
   ]
  },
  {
   "cell_type": "markdown",
   "id": "523efec8",
   "metadata": {},
   "source": [
    "Q6. How does a Python class handle operator overloading?"
   ]
  },
  {
   "cell_type": "markdown",
   "id": "bac1e1a9",
   "metadata": {},
   "source": [
    "An operator overloading allows us to define custom behavior for built-in operators when applied to instances of the class. This is achieved by defining special methods with double underscores that correspond to the operators we want to customize. These methods enable us to implement custom logic and return results that match the desired behavior of the operator when used with the class instances."
   ]
  },
  {
   "cell_type": "code",
   "execution_count": 5,
   "id": "b904b12d",
   "metadata": {},
   "outputs": [
    {
     "name": "stdout",
     "output_type": "stream",
     "text": [
      "4 6\n"
     ]
    }
   ],
   "source": [
    "class Vector:\n",
    "    def __init__(self, x, y):\n",
    "        self.x = x\n",
    "        self.y = y\n",
    "    def __add__(self, other):\n",
    "        new_x = self.x + other.x\n",
    "        new_y = self.y + other.y\n",
    "        return Vector(new_x, new_y)\n",
    "v1 = Vector(1, 2)\n",
    "v2 = Vector(3, 4)\n",
    "v3 = v1 + v2\n",
    "print(v3.x, v3.y)"
   ]
  },
  {
   "cell_type": "markdown",
   "id": "ff1dbf80",
   "metadata": {},
   "source": [
    "Q7. When do you consider allowing operator overloading of your classes?"
   ]
  },
  {
   "cell_type": "raw",
   "id": "b90420b6",
   "metadata": {},
   "source": [
    "Consider allowing operator overloading when it improves the clarity and expressiveness of your code, aligns with expected behavior, and enhances the usability of your class instances in Python.\n",
    "Logical and Intuitive: Overloading an operator makes sense in the context of your class, and it enhances the readability and usability of your code.\n",
    "\n",
    "Mimics Real-World Behavior: The overloaded operator behavior closely mimics real-world or expected behavior. For example, using + for vector addition or * for scaling.\n",
    "\n",
    "Consistency: Overloading maintains consistency with Python's built-in types and conventions, making your code more intuitive and user-friendly.\n",
    "\n",
    "Useful Abstraction: Operator overloading provides a useful abstraction that simplifies complex operations and makes your code more expressive.\n",
    "\n",
    "Avoids Ambiguity: Overloading avoids ambiguity and confusion in your code by providing clear and expected behavior for operators."
   ]
  },
  {
   "cell_type": "markdown",
   "id": "15791df0",
   "metadata": {},
   "source": [
    "Q8. What is the most popular form of operator overloading?"
   ]
  },
  {
   "cell_type": "raw",
   "id": "1a557963",
   "metadata": {},
   "source": [
    "The most popular form of operator overloading in Python is probably the overloading of arithmetic operators, such as +, -, *, and /, especially in classes that represent mathematical entities like numbers, vectors, matrices, and complex numbers.\n",
    "While arithmetic operators are among the most common forms of operator overloading, other operators like comparison operators  are <, <=, ==, !=, >, >="
   ]
  },
  {
   "cell_type": "markdown",
   "id": "7b80357d",
   "metadata": {},
   "source": [
    "Q9. What are the two most important concepts to grasp in order to comprehend Python OOP code?"
   ]
  },
  {
   "cell_type": "raw",
   "id": "fbdd9f87",
   "metadata": {},
   "source": [
    "The two most important concepts in Python Object-Oriented Programming (OOP) are:\n",
    "1 Classes and Objects: Understanding the concept of classes as blueprints for objects and recognizing that objects are instances of these classes with their unique data and behavior.\n",
    "2 Inheritance and Polymorphism: Grasping the idea of inheritance, which enables the creation of new classes based on existing ones, and understanding polymorphism, where different objects can respond to methods or operators in a class-specific way, making code more modular and flexible. These concepts are foundational to OOP in Python."
   ]
  },
  {
   "cell_type": "markdown",
   "id": "a79c0885",
   "metadata": {},
   "source": [
    "# Done Regards,Yashwant"
   ]
  }
 ],
 "metadata": {
  "kernelspec": {
   "display_name": "Python 3 (ipykernel)",
   "language": "python",
   "name": "python3"
  },
  "language_info": {
   "codemirror_mode": {
    "name": "ipython",
    "version": 3
   },
   "file_extension": ".py",
   "mimetype": "text/x-python",
   "name": "python",
   "nbconvert_exporter": "python",
   "pygments_lexer": "ipython3",
   "version": "3.9.13"
  }
 },
 "nbformat": 4,
 "nbformat_minor": 5
}
